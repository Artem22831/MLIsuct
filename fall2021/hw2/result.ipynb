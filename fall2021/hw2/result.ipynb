{
 "cells": [
  {
   "cell_type": "code",
   "execution_count": 36,
   "id": "9e793e61-f49b-40e7-a1e8-3cffd509c396",
   "metadata": {},
   "outputs": [],
   "source": [
    "import os\n",
    "from datetime import datetime\n",
    "\n",
    "import numpy as np\n",
    "import matplotlib.pyplot as plt\n",
    "import pandas as pd\n",
    "import requests\n",
    "import seaborn as sns\n",
    "from sklearn.linear_model import LinearRegression, Ridge\n",
    "from sklearn.metrics import mean_squared_error, mean_absolute_error"
   ]
  },
  {
   "cell_type": "code",
   "execution_count": 2,
   "id": "30bebdfe-ee09-4a57-82ec-b3cc634adb50",
   "metadata": {},
   "outputs": [],
   "source": [
    "if not os.path.isfile(\"owid-covid.csv\"):\n",
    "    with open(\"owid-covid.csv\", \"w\") as f:\n",
    "        r = requests.get(\"https://raw.githubusercontent.com/owid/covid-19-data/master/public/data/owid-covid-data.csv\")\n",
    "        f.write(r.text)"
   ]
  },
  {
   "cell_type": "code",
   "execution_count": 3,
   "id": "32b5f234-4db8-48e6-8e9f-d6b8a0d4401d",
   "metadata": {},
   "outputs": [],
   "source": [
    "df = pd.read_csv(\"owid-covid.csv\")"
   ]
  },
  {
   "cell_type": "code",
   "execution_count": 4,
   "id": "f3c556a5-f235-47fa-80ec-a420a94e443b",
   "metadata": {},
   "outputs": [
    {
     "data": {
      "text/html": [
       "<div>\n",
       "<style scoped>\n",
       "    .dataframe tbody tr th:only-of-type {\n",
       "        vertical-align: middle;\n",
       "    }\n",
       "\n",
       "    .dataframe tbody tr th {\n",
       "        vertical-align: top;\n",
       "    }\n",
       "\n",
       "    .dataframe thead th {\n",
       "        text-align: right;\n",
       "    }\n",
       "</style>\n",
       "<table border=\"1\" class=\"dataframe\">\n",
       "  <thead>\n",
       "    <tr style=\"text-align: right;\">\n",
       "      <th></th>\n",
       "      <th>iso_code</th>\n",
       "      <th>continent</th>\n",
       "      <th>location</th>\n",
       "      <th>date</th>\n",
       "      <th>total_cases</th>\n",
       "      <th>new_cases</th>\n",
       "      <th>new_cases_smoothed</th>\n",
       "      <th>total_deaths</th>\n",
       "      <th>new_deaths</th>\n",
       "      <th>new_deaths_smoothed</th>\n",
       "      <th>...</th>\n",
       "      <th>female_smokers</th>\n",
       "      <th>male_smokers</th>\n",
       "      <th>handwashing_facilities</th>\n",
       "      <th>hospital_beds_per_thousand</th>\n",
       "      <th>life_expectancy</th>\n",
       "      <th>human_development_index</th>\n",
       "      <th>excess_mortality_cumulative_absolute</th>\n",
       "      <th>excess_mortality_cumulative</th>\n",
       "      <th>excess_mortality</th>\n",
       "      <th>excess_mortality_cumulative_per_million</th>\n",
       "    </tr>\n",
       "  </thead>\n",
       "  <tbody>\n",
       "    <tr>\n",
       "      <th>0</th>\n",
       "      <td>AFG</td>\n",
       "      <td>Asia</td>\n",
       "      <td>Afghanistan</td>\n",
       "      <td>2020-02-24</td>\n",
       "      <td>5.0</td>\n",
       "      <td>5.0</td>\n",
       "      <td>NaN</td>\n",
       "      <td>NaN</td>\n",
       "      <td>NaN</td>\n",
       "      <td>NaN</td>\n",
       "      <td>...</td>\n",
       "      <td>NaN</td>\n",
       "      <td>NaN</td>\n",
       "      <td>37.746</td>\n",
       "      <td>0.5</td>\n",
       "      <td>64.83</td>\n",
       "      <td>0.511</td>\n",
       "      <td>NaN</td>\n",
       "      <td>NaN</td>\n",
       "      <td>NaN</td>\n",
       "      <td>NaN</td>\n",
       "    </tr>\n",
       "    <tr>\n",
       "      <th>1</th>\n",
       "      <td>AFG</td>\n",
       "      <td>Asia</td>\n",
       "      <td>Afghanistan</td>\n",
       "      <td>2020-02-25</td>\n",
       "      <td>5.0</td>\n",
       "      <td>0.0</td>\n",
       "      <td>NaN</td>\n",
       "      <td>NaN</td>\n",
       "      <td>NaN</td>\n",
       "      <td>NaN</td>\n",
       "      <td>...</td>\n",
       "      <td>NaN</td>\n",
       "      <td>NaN</td>\n",
       "      <td>37.746</td>\n",
       "      <td>0.5</td>\n",
       "      <td>64.83</td>\n",
       "      <td>0.511</td>\n",
       "      <td>NaN</td>\n",
       "      <td>NaN</td>\n",
       "      <td>NaN</td>\n",
       "      <td>NaN</td>\n",
       "    </tr>\n",
       "    <tr>\n",
       "      <th>2</th>\n",
       "      <td>AFG</td>\n",
       "      <td>Asia</td>\n",
       "      <td>Afghanistan</td>\n",
       "      <td>2020-02-26</td>\n",
       "      <td>5.0</td>\n",
       "      <td>0.0</td>\n",
       "      <td>NaN</td>\n",
       "      <td>NaN</td>\n",
       "      <td>NaN</td>\n",
       "      <td>NaN</td>\n",
       "      <td>...</td>\n",
       "      <td>NaN</td>\n",
       "      <td>NaN</td>\n",
       "      <td>37.746</td>\n",
       "      <td>0.5</td>\n",
       "      <td>64.83</td>\n",
       "      <td>0.511</td>\n",
       "      <td>NaN</td>\n",
       "      <td>NaN</td>\n",
       "      <td>NaN</td>\n",
       "      <td>NaN</td>\n",
       "    </tr>\n",
       "    <tr>\n",
       "      <th>3</th>\n",
       "      <td>AFG</td>\n",
       "      <td>Asia</td>\n",
       "      <td>Afghanistan</td>\n",
       "      <td>2020-02-27</td>\n",
       "      <td>5.0</td>\n",
       "      <td>0.0</td>\n",
       "      <td>NaN</td>\n",
       "      <td>NaN</td>\n",
       "      <td>NaN</td>\n",
       "      <td>NaN</td>\n",
       "      <td>...</td>\n",
       "      <td>NaN</td>\n",
       "      <td>NaN</td>\n",
       "      <td>37.746</td>\n",
       "      <td>0.5</td>\n",
       "      <td>64.83</td>\n",
       "      <td>0.511</td>\n",
       "      <td>NaN</td>\n",
       "      <td>NaN</td>\n",
       "      <td>NaN</td>\n",
       "      <td>NaN</td>\n",
       "    </tr>\n",
       "    <tr>\n",
       "      <th>4</th>\n",
       "      <td>AFG</td>\n",
       "      <td>Asia</td>\n",
       "      <td>Afghanistan</td>\n",
       "      <td>2020-02-28</td>\n",
       "      <td>5.0</td>\n",
       "      <td>0.0</td>\n",
       "      <td>NaN</td>\n",
       "      <td>NaN</td>\n",
       "      <td>NaN</td>\n",
       "      <td>NaN</td>\n",
       "      <td>...</td>\n",
       "      <td>NaN</td>\n",
       "      <td>NaN</td>\n",
       "      <td>37.746</td>\n",
       "      <td>0.5</td>\n",
       "      <td>64.83</td>\n",
       "      <td>0.511</td>\n",
       "      <td>NaN</td>\n",
       "      <td>NaN</td>\n",
       "      <td>NaN</td>\n",
       "      <td>NaN</td>\n",
       "    </tr>\n",
       "  </tbody>\n",
       "</table>\n",
       "<p>5 rows × 65 columns</p>\n",
       "</div>"
      ],
      "text/plain": [
       "  iso_code continent     location        date  total_cases  new_cases  \\\n",
       "0      AFG      Asia  Afghanistan  2020-02-24          5.0        5.0   \n",
       "1      AFG      Asia  Afghanistan  2020-02-25          5.0        0.0   \n",
       "2      AFG      Asia  Afghanistan  2020-02-26          5.0        0.0   \n",
       "3      AFG      Asia  Afghanistan  2020-02-27          5.0        0.0   \n",
       "4      AFG      Asia  Afghanistan  2020-02-28          5.0        0.0   \n",
       "\n",
       "   new_cases_smoothed  total_deaths  new_deaths  new_deaths_smoothed  ...  \\\n",
       "0                 NaN           NaN         NaN                  NaN  ...   \n",
       "1                 NaN           NaN         NaN                  NaN  ...   \n",
       "2                 NaN           NaN         NaN                  NaN  ...   \n",
       "3                 NaN           NaN         NaN                  NaN  ...   \n",
       "4                 NaN           NaN         NaN                  NaN  ...   \n",
       "\n",
       "   female_smokers  male_smokers  handwashing_facilities  \\\n",
       "0             NaN           NaN                  37.746   \n",
       "1             NaN           NaN                  37.746   \n",
       "2             NaN           NaN                  37.746   \n",
       "3             NaN           NaN                  37.746   \n",
       "4             NaN           NaN                  37.746   \n",
       "\n",
       "   hospital_beds_per_thousand  life_expectancy  human_development_index  \\\n",
       "0                         0.5            64.83                    0.511   \n",
       "1                         0.5            64.83                    0.511   \n",
       "2                         0.5            64.83                    0.511   \n",
       "3                         0.5            64.83                    0.511   \n",
       "4                         0.5            64.83                    0.511   \n",
       "\n",
       "   excess_mortality_cumulative_absolute  excess_mortality_cumulative  \\\n",
       "0                                   NaN                          NaN   \n",
       "1                                   NaN                          NaN   \n",
       "2                                   NaN                          NaN   \n",
       "3                                   NaN                          NaN   \n",
       "4                                   NaN                          NaN   \n",
       "\n",
       "   excess_mortality  excess_mortality_cumulative_per_million  \n",
       "0               NaN                                      NaN  \n",
       "1               NaN                                      NaN  \n",
       "2               NaN                                      NaN  \n",
       "3               NaN                                      NaN  \n",
       "4               NaN                                      NaN  \n",
       "\n",
       "[5 rows x 65 columns]"
      ]
     },
     "execution_count": 4,
     "metadata": {},
     "output_type": "execute_result"
    }
   ],
   "source": [
    "df.head()"
   ]
  },
  {
   "cell_type": "code",
   "execution_count": 5,
   "id": "43ed4b8f-9bcf-43e9-a8c9-491cca2c6e38",
   "metadata": {},
   "outputs": [],
   "source": [
    "COUNTRY = \"Germany\""
   ]
  },
  {
   "cell_type": "code",
   "execution_count": 6,
   "id": "6f0f8daf-740a-4e95-bcee-5809ed4568b2",
   "metadata": {},
   "outputs": [],
   "source": [
    "df = df.loc[df[\"location\"] == COUNTRY, :]\n",
    "df = df.iloc[:-20]"
   ]
  },
  {
   "cell_type": "code",
   "execution_count": 7,
   "id": "fbe32a5c-a67f-4041-bf7d-63eccae2cb6d",
   "metadata": {},
   "outputs": [],
   "source": [
    "df[\"date\"] = pd.to_datetime(df[\"date\"], format=\"%Y-%m-%d\")"
   ]
  },
  {
   "cell_type": "code",
   "execution_count": 8,
   "id": "4909bd3e-37b6-40f4-8ac2-f95149cdcf2b",
   "metadata": {},
   "outputs": [
    {
     "data": {
      "image/png": "[encoded data removed]",
      "text/plain": [
       "<Figure size 432x288 with 1 Axes>"
      ]
     },
     "metadata": {
      "needs_background": "light"
     },
     "output_type": "display_data"
    }
   ],
   "source": [
    "sns.lineplot(x=df[\"date\"], y=df[\"total_cases\"]);"
   ]
  },
  {
   "cell_type": "code",
   "execution_count": 9,
   "id": "163f3dcf-79a2-47f9-afb5-c2b64113907a",
   "metadata": {},
   "outputs": [
    {
     "data": {
      "image/png": "[encoded data removed]",
      "text/plain": [
       "<Figure size 432x288 with 1 Axes>"
      ]
     },
     "metadata": {
      "needs_background": "light"
     },
     "output_type": "display_data"
    }
   ],
   "source": [
    "start_date = datetime(2020, 2, 25)\n",
    "sns.lineplot(x=\"date\", y=\"total_cases\", data=df.loc[df[\"date\"] < start_date]);\n",
    "plt.xticks(rotation=90);"
   ]
  },
  {
   "cell_type": "code",
   "execution_count": 10,
   "id": "e1ae9b19-33da-4a4a-932e-20308b37a2cf",
   "metadata": {},
   "outputs": [],
   "source": [
    "df = df.loc[df[\"date\"] > start_date]"
   ]
  },
  {
   "cell_type": "code",
   "execution_count": 11,
   "id": "ab45f320-3606-470e-b0ed-560812baecf2",
   "metadata": {},
   "outputs": [],
   "source": [
    "df[\"day_number\"] = np.arange(1, df.shape[0] + 1)"
   ]
  },
  {
   "cell_type": "code",
   "execution_count": 12,
   "id": "cbbc92c0-e32e-45da-b8bf-dcd986c68907",
   "metadata": {},
   "outputs": [],
   "source": [
    "train_size = int(df.shape[0] * 0.8)\n",
    "train_df = df.iloc[:train_size].copy()\n",
    "test_df = df.iloc[train_size:].copy()"
   ]
  },
  {
   "cell_type": "code",
   "execution_count": 13,
   "id": "ede74e49-0e15-4dec-ae98-5da8779d6059",
   "metadata": {},
   "outputs": [
    {
     "data": {
      "text/plain": [
       "((472, 66), (118, 66))"
      ]
     },
     "execution_count": 13,
     "metadata": {},
     "output_type": "execute_result"
    }
   ],
   "source": [
    "train_df.shape, test_df.shape"
   ]
  },
  {
   "cell_type": "code",
   "execution_count": 14,
   "id": "90087863-7623-4fc1-97eb-4c957aafa8ec",
   "metadata": {},
   "outputs": [
    {
     "name": "stderr",
     "output_type": "stream",
     "text": [
      "/home/imd/miniconda3/envs/mlisuct/lib/python3.8/site-packages/seaborn/_decorators.py:36: FutureWarning: Pass the following variables as keyword args: x, y. From version 0.12, the only valid positional argument will be `data`, and passing other arguments without an explicit keyword will result in an error or misinterpretation.\n",
      "  warnings.warn(\n",
      "/home/imd/miniconda3/envs/mlisuct/lib/python3.8/site-packages/seaborn/_decorators.py:36: FutureWarning: Pass the following variables as keyword args: x, y. From version 0.12, the only valid positional argument will be `data`, and passing other arguments without an explicit keyword will result in an error or misinterpretation.\n",
      "  warnings.warn(\n"
     ]
    },
    {
     "data": {
      "image/png": "[encoded data removed]",
      "text/plain": [
       "<Figure size 432x288 with 1 Axes>"
      ]
     },
     "metadata": {
      "needs_background": "light"
     },
     "output_type": "display_data"
    }
   ],
   "source": [
    "sns.lineplot(train_df[\"day_number\"], train_df[\"total_cases\"]);\n",
    "sns.lineplot(test_df[\"day_number\"], test_df[\"total_cases\"]);"
   ]
  },
  {
   "cell_type": "code",
   "execution_count": 15,
   "id": "23157288-ee85-4aa3-ac9c-a0a8e7b7e1f2",
   "metadata": {},
   "outputs": [],
   "source": [
    "model = LinearRegression()"
   ]
  },
  {
   "cell_type": "code",
   "execution_count": 16,
   "id": "1d22b84c-0eef-49ac-8d96-791e8ed93547",
   "metadata": {},
   "outputs": [],
   "source": [
    "features = [\"day_number\"]\n",
    "target = \"total_cases\""
   ]
  },
  {
   "cell_type": "code",
   "execution_count": 17,
   "id": "e93bace6-487b-4ba5-80d4-2c5750b6d664",
   "metadata": {},
   "outputs": [
    {
     "data": {
      "text/plain": [
       "LinearRegression()"
      ]
     },
     "execution_count": 17,
     "metadata": {},
     "output_type": "execute_result"
    }
   ],
   "source": [
    "model.fit(train_df[features], train_df[target])"
   ]
  },
  {
   "cell_type": "code",
   "execution_count": 18,
   "id": "fb7cf79c-bb7f-406a-bb5d-cc7d75484d68",
   "metadata": {},
   "outputs": [],
   "source": [
    "prediction = model.predict(test_df[features])"
   ]
  },
  {
   "cell_type": "code",
   "execution_count": 19,
   "id": "d91481b2-d30f-4bfd-b626-b1e62cf8c77e",
   "metadata": {},
   "outputs": [],
   "source": [
    "test_df[\"prediction\"] = prediction"
   ]
  },
  {
   "cell_type": "code",
   "execution_count": 20,
   "id": "2788e244-94e7-436b-a6b7-b91b32deea9c",
   "metadata": {},
   "outputs": [
    {
     "data": {
      "image/png": "[encoded data removed]",
      "text/plain": [
       "<Figure size 432x288 with 1 Axes>"
      ]
     },
     "metadata": {
      "needs_background": "light"
     },
     "output_type": "display_data"
    }
   ],
   "source": [
    "sns.lineplot(x=\"day_number\", y=\"total_cases\", data=test_df);\n",
    "sns.lineplot(x=\"day_number\", y=\"prediction\", data=test_df);"
   ]
  },
  {
   "cell_type": "code",
   "execution_count": 21,
   "id": "3d118750-237a-4b33-9419-8823f90c577b",
   "metadata": {},
   "outputs": [
    {
     "data": {
      "text/plain": [
       "47348658086.54471"
      ]
     },
     "execution_count": 21,
     "metadata": {},
     "output_type": "execute_result"
    }
   ],
   "source": [
    "mean_squared_error(test_df[\"total_cases\"], test_df[\"prediction\"])"
   ]
  },
  {
   "cell_type": "code",
   "execution_count": 22,
   "id": "c093afb2-5cf3-458f-b8dd-5ec5f388115e",
   "metadata": {},
   "outputs": [
    {
     "data": {
      "text/plain": [
       "168367.57167299642"
      ]
     },
     "execution_count": 22,
     "metadata": {},
     "output_type": "execute_result"
    }
   ],
   "source": [
    "mean_absolute_error(test_df[\"total_cases\"], test_df[\"prediction\"])"
   ]
  },
  {
   "cell_type": "code",
   "execution_count": 23,
   "id": "3641aa6d-84f9-441f-abb1-0b34e141c01d",
   "metadata": {},
   "outputs": [
    {
     "data": {
      "text/plain": [
       "LinearRegression()"
      ]
     },
     "execution_count": 23,
     "metadata": {},
     "output_type": "execute_result"
    }
   ],
   "source": [
    "model.fit(train_df[features], np.log(train_df[target]))"
   ]
  },
  {
   "cell_type": "code",
   "execution_count": 24,
   "id": "cc7e9fd1-1ab5-4a8d-98bc-102c29322068",
   "metadata": {},
   "outputs": [],
   "source": [
    "prediction = np.exp(model.predict(test_df[features]))"
   ]
  },
  {
   "cell_type": "code",
   "execution_count": 25,
   "id": "77a80896-2f0e-49b4-8965-2843b76843cc",
   "metadata": {},
   "outputs": [],
   "source": [
    "test_df[\"prediction\"] = prediction"
   ]
  },
  {
   "cell_type": "code",
   "execution_count": 26,
   "id": "62039255-846d-4555-a71a-391f5ce30c75",
   "metadata": {},
   "outputs": [
    {
     "data": {
      "image/png": "[encoded data removed]",
      "text/plain": [
       "<Figure size 432x288 with 1 Axes>"
      ]
     },
     "metadata": {
      "needs_background": "light"
     },
     "output_type": "display_data"
    }
   ],
   "source": [
    "sns.lineplot(x=\"day_number\", y=\"total_cases\", data=test_df);\n",
    "sns.lineplot(x=\"day_number\", y=\"prediction\", data=test_df);"
   ]
  },
  {
   "cell_type": "code",
   "execution_count": 27,
   "id": "a71f7955-cfe6-43ac-9b41-922b09d330e6",
   "metadata": {},
   "outputs": [
    {
     "data": {
      "text/plain": [
       "281576454429889.9"
      ]
     },
     "execution_count": 27,
     "metadata": {},
     "output_type": "execute_result"
    }
   ],
   "source": [
    "mean_squared_error(test_df[\"total_cases\"], test_df[\"prediction\"])"
   ]
  },
  {
   "cell_type": "code",
   "execution_count": 28,
   "id": "9b931c78-fd50-49e7-a2ef-da8904d11e32",
   "metadata": {},
   "outputs": [
    {
     "data": {
      "text/plain": [
       "14966751.83261129"
      ]
     },
     "execution_count": 28,
     "metadata": {},
     "output_type": "execute_result"
    }
   ],
   "source": [
    "mean_absolute_error(test_df[\"total_cases\"], test_df[\"prediction\"])"
   ]
  },
  {
   "cell_type": "code",
   "execution_count": 29,
   "id": "7ad36d45-bdf7-40c1-a5e8-8a8962f83c7e",
   "metadata": {},
   "outputs": [],
   "source": [
    "train_df[\"day_number_squared\"] = train_df[\"day_number\"] ** 2\n",
    "test_df[\"day_number_squared\"] = test_df[\"day_number\"] ** 2"
   ]
  },
  {
   "cell_type": "code",
   "execution_count": 30,
   "id": "f278a11c-ec44-4687-b7ef-53be6baeb381",
   "metadata": {},
   "outputs": [],
   "source": [
    "features = [\"day_number\", \"day_number_squared\"]\n",
    "target = \"new_cases\""
   ]
  },
  {
   "cell_type": "code",
   "execution_count": 37,
   "id": "3ca7ace7-80f7-4e7c-a854-1ea7ada2f573",
   "metadata": {},
   "outputs": [],
   "source": [
    "model = Ridge()"
   ]
  },
  {
   "cell_type": "code",
   "execution_count": 38,
   "id": "b5d41066-9cb3-422e-88ab-d72aacee7c78",
   "metadata": {},
   "outputs": [
    {
     "data": {
      "text/plain": [
       "Ridge()"
      ]
     },
     "execution_count": 38,
     "metadata": {},
     "output_type": "execute_result"
    }
   ],
   "source": [
    "model.fit(train_df[features], np.log(train_df[target].clip(lower=1)))"
   ]
  },
  {
   "cell_type": "code",
   "execution_count": 39,
   "id": "e3a554e6-757d-4bc0-aebc-401886bb7ca8",
   "metadata": {},
   "outputs": [],
   "source": [
    "prediction = model.predict(test_df[features])"
   ]
  },
  {
   "cell_type": "code",
   "execution_count": 40,
   "id": "d0579082-fad8-4f9b-aaef-8eb41950a837",
   "metadata": {},
   "outputs": [],
   "source": [
    "prediction = np.exp(prediction).cumsum() + train_df[\"total_cases\"].iloc[-1]"
   ]
  },
  {
   "cell_type": "code",
   "execution_count": 41,
   "id": "63f404ff-8d2a-431e-bcb9-449d39555771",
   "metadata": {},
   "outputs": [],
   "source": [
    "test_df[\"prediction\"] = prediction"
   ]
  },
  {
   "cell_type": "code",
   "execution_count": 42,
   "id": "869b661c-1b49-43b9-8a8b-cdd043fb1adc",
   "metadata": {},
   "outputs": [
    {
     "data": {
      "image/png": "[encoded data removed]",
      "text/plain": [
       "<Figure size 432x288 with 1 Axes>"
      ]
     },
     "metadata": {
      "needs_background": "light"
     },
     "output_type": "display_data"
    }
   ],
   "source": [
    "sns.lineplot(x=\"day_number\", y=\"total_cases\", data=test_df);\n",
    "sns.lineplot(x=\"day_number\", y=\"prediction\", data=test_df);"
   ]
  },
  {
   "cell_type": "code",
   "execution_count": null,
   "id": "639cba87-7f5c-4b75-8ead-f7a1263783f5",
   "metadata": {},
   "outputs": [],
   "source": []
  }
 ],
 "metadata": {
  "kernelspec": {
   "display_name": "Python 3 (ipykernel)",
   "language": "python",
   "name": "python3"
  },
  "language_info": {
   "codemirror_mode": {
    "name": "ipython",
    "version": 3
   },
   "file_extension": ".py",
   "mimetype": "text/x-python",
   "name": "python",
   "nbconvert_exporter": "python",
   "pygments_lexer": "ipython3",
   "version": "3.8.0"
  }
 },
 "nbformat": 4,
 "nbformat_minor": 5
}
