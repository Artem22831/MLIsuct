{
 "cells": [
  {
   "cell_type": "markdown",
   "source": [
    "# Теорема Байеса\r\n",
    "\r\n",
    "Краткое напоминание:\r\n",
    "\r\n",
    "$P(x, y) = P(x|y)P(y)$\r\n",
    "\r\n",
    "Однако, так же:\r\n",
    "\r\n",
    "$P(x, y) = P(y|x)P(x)$\r\n",
    "\r\n",
    "Вывод:\r\n",
    "\r\n",
    "$P(x|y) P(y) = P(y|x)P(x)$\r\n",
    "\r\n",
    "Немного преобразований и теорема Байеса готова!:\r\n",
    "\r\n",
    "$\\large{P(x=b|y=a) = \\frac{P(y=a|x)P(x=b)}{P(y=a)}}$\r\n",
    "\r\n",
    "Вспомним о маргинализации:\r\n",
    "\r\n",
    "$P(y=a) = \\sum_{c}P(y=a|x=c)P(x=c)$\r\n",
    "\r\n",
    "Тогда:\r\n",
    "\r\n",
    "$\\large{P(x=b|y=a) = \\frac{P(y=a|x)P(x=b)}{\\sum_{c}P(y=a|x=c)P(x=c)}}$"
   ],
   "metadata": {}
  },
  {
   "cell_type": "code",
   "execution_count": 3,
   "source": [
    "219000000 / 7731621621 * 100"
   ],
   "outputs": [
    {
     "output_type": "execute_result",
     "data": {
      "text/plain": [
       "2.8325235084599854"
      ]
     },
     "metadata": {},
     "execution_count": 3
    }
   ],
   "metadata": {}
  },
  {
   "cell_type": "markdown",
   "source": [
    "## COVID-19 Test\r\n",
    "\r\n",
    "- $N_{sick} = 219000000$\r\n",
    "- $N_{total} = 7731621621$\r\n",
    "\r\n",
    "$$\\large{P(test=1|sick=1) = 0.995}$$\r\n",
    "$$\\large{P(sick=1) = \\frac{N_{sick}}{N_{total}} = 0.028}$$\r\n",
    "$$\\large{P(sick=1|test=1) = ?}$$\r\n",
    "$$\\large{P(sick=1|test=1) = \\frac{P(test=1|sick=1)P(sick=1)}{P(test=1)}}$$\r\n",
    "$$\\large{P(sick=1|test=1) = \\frac{0.995 * 0.028}{P(test=1)}}$$\r\n",
    "$$\\large{P(sick=1|test=1) = \\frac{0.995 * 0.028}{P(test=1|sick=1)P(sick=1) + P(test=1|sick=0)P(sick=0)}}$$\r\n",
    "$$\\large{P(sick=1|test=1) = \\frac{0.995 * 0.028}{0.995 * 0.028 + (1 - 0.995)(1 - 0.028))}}$$\r\n",
    "$$\\large{P(sick=1|test=1) = 0.85}$$"
   ],
   "metadata": {}
  },
  {
   "cell_type": "markdown",
   "source": [],
   "metadata": {}
  }
 ],
 "metadata": {
  "orig_nbformat": 4,
  "language_info": {
   "name": "python",
   "version": "3.8.0",
   "mimetype": "text/x-python",
   "codemirror_mode": {
    "name": "ipython",
    "version": 3
   },
   "pygments_lexer": "ipython3",
   "nbconvert_exporter": "python",
   "file_extension": ".py"
  },
  "kernelspec": {
   "name": "python3",
   "display_name": "Python 3.8.0 64-bit ('mlisuct': conda)"
  },
  "interpreter": {
   "hash": "c2f59a19f275b4730297ae82f69de846c181cbb4f157f83a66e1ed41889c0a5c"
  }
 },
 "nbformat": 4,
 "nbformat_minor": 2
}