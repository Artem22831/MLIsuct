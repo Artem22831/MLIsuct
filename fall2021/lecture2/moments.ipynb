{
 "cells": [
  {
   "cell_type": "code",
   "execution_count": 2,
   "source": [
    "import numpy as np"
   ],
   "outputs": [],
   "metadata": {}
  },
  {
   "cell_type": "markdown",
   "source": [
    "# Моменты распределения"
   ],
   "metadata": {}
  },
  {
   "cell_type": "markdown",
   "source": [
    "## Математическое ожидание (Mean, среднее)\r\n",
    "\r\n",
    "Для большинства известных распределений среднее обозначается как $\\mu$\r\n",
    "\r\n",
    "Для дискретной случайной величины\r\n",
    "\r\n",
    "$ E[X] = \\sum_{X}xp(x) $\r\n",
    "\r\n",
    "Для непрерывной случайной величины\r\n",
    "\r\n",
    "$ E[X] = \\int_{X}xp(x)dx $\r\n",
    "\r\n",
    "Среднее линейно\r\n",
    "\r\n",
    "$ E[aX + b] = aE[x] + b $\r\n",
    "\r\n",
    "Среднее линейно по сумме случайных величин\r\n",
    "\r\n",
    "$ E[\\sum_{i=1}^{N}X_i] = \\sum_{i=1}^{N}E[X_i]$\r\n",
    "\r\n",
    "Если случайные величины независимы\r\n",
    "\r\n",
    "$ E[\\prod_{i=1}^{N}X_i] = \\prod_{i=1}^{N}E[X_i]$"
   ],
   "metadata": {}
  },
  {
   "cell_type": "code",
   "execution_count": 4,
   "source": [
    "X1 = np.random.normal(0, 1, size=(1_000,))\r\n",
    "\r\n",
    "X2 = np.random.normal(2, 2, size=(1_000,))\r\n",
    "\r\n",
    "X3 = np.random.normal(-4, 3, size=(1_000,))\r\n",
    "\r\n",
    "X = np.array([0.2, 0.8])\r\n",
    "\r\n",
    "\r\n",
    "X_mean = 0.8\r\n",
    "\r\n",
    "\r\n",
    "Y = np.array([0.4, 0.6])\r\n",
    "\r\n",
    "\r\n",
    "Y_mean = 0.6\r\n",
    "\r\n",
    "\r\n",
    "XY = X * Y\r\n",
    "\r\n",
    "\r\n",
    "print(f\"Среднее X1: {X1.mean()}\")\r\n",
    "\r\n",
    "print(f\"Среднее X2: {X2.mean()}\")\r\n",
    "\r\n",
    "print(f\"Среднее X3: {X3.mean()}\")\r\n",
    "\r\n",
    "print(f\"Среднее 5 * X2 + 2: {(5 * X2 + 2).mean()}\")\r\n",
    "\r\n",
    "print(f\"Среднее суммы распределений: {(X1 + X2 + X3).mean()}\")\r\n",
    "\r\n",
    "print(f\"Сумма средних распределений: {X1.mean() + X2.mean() + X3.mean()}\")\r\n",
    "\r\n",
    "print(f\"Произведенеие средних: {X_mean * Y_mean}\")\r\n",
    "\r\n",
    "print(f\"Среднее произведение: {XY[1]}\")"
   ],
   "outputs": [
    {
     "output_type": "stream",
     "name": "stdout",
     "text": [
      "Среднее X1: 0.01621705039550911\n",
      "Среднее X2: 1.8775293477327413\n",
      "Среднее X3: -3.9618700245778338\n",
      "Среднее 5 * X2 + 2: 11.387646738663708\n",
      "Среднее суммы распределений: -2.0681236264495833\n",
      "Сумма средних распределений: -2.0681236264495837\n"
     ]
    }
   ],
   "metadata": {}
  },
  {
   "cell_type": "markdown",
   "source": [
    "## Дисперсия\r\n",
    "\r\n",
    "Дисперсия это мера \"разброса\" значений в распределении, обозначается как $\\sigma^2$\r\n",
    "\r\n",
    "$ V[x] = E[(X - \\mu^2)] = \\int (x - \\mu)^2p(x)dx = \\int x^2p(x)dx - 2\\mu \\int xp(x)dx + \\mu^2\\int p(x)dx = E[X^2] - \\mu^2$\r\n",
    "\r\n",
    "Тогда:\r\n",
    "\r\n",
    "$ E[X^2] = \\sigma^2 + \\mu^2 $\r\n",
    "\r\n",
    "Стандартное отклонение, является корнем из дисперсии\r\n",
    "\r\n",
    "$ std[X] = \\sqrt {V[X]} = \\sqrt {\\sigma^2} = \\sigma $"
   ],
   "metadata": {}
  }
 ],
 "metadata": {
  "orig_nbformat": 4,
  "language_info": {
   "name": "python",
   "version": "3.8.0",
   "mimetype": "text/x-python",
   "codemirror_mode": {
    "name": "ipython",
    "version": 3
   },
   "pygments_lexer": "ipython3",
   "nbconvert_exporter": "python",
   "file_extension": ".py"
  },
  "kernelspec": {
   "name": "python3",
   "display_name": "Python 3.8.0 64-bit ('mlisuct': conda)"
  },
  "interpreter": {
   "hash": "c2f59a19f275b4730297ae82f69de846c181cbb4f157f83a66e1ed41889c0a5c"
  }
 },
 "nbformat": 4,
 "nbformat_minor": 2
}