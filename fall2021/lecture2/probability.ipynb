{
 "cells": [
  {
   "cell_type": "markdown",
   "source": [
    "# Вероятность\n",
    "\n",
    "Вероятность имеет 2 равносильных определения\n",
    "\n",
    "- Частотная - вероятность это частота результата эксперимента, повторенного многократно\n",
    "- Баесовская - количественная оценка нашей неуверенности/неопределенности чего либо."
   ],
   "metadata": {}
  },
  {
   "cell_type": "code",
   "execution_count": 36,
   "source": [
    "import numpy as np\n",
    "from collections import Counter\n",
    "import seaborn as sns"
   ],
   "outputs": [],
   "metadata": {}
  },
  {
   "cell_type": "code",
   "execution_count": 41,
   "source": [
    "# Частотная\n",
    "np.random.seed(42)\n",
    "coin_array = np.random.randint(0, 2, size=10000)\n",
    "coin_frequencies = Counter(coin_array)\n",
    "print(f\"number of heads and tails: {coin_frequencies}\")\n",
    "print(f\"probability of head: {coin_frequencies[0] / coin_array.shape[0]}\")"
   ],
   "outputs": [
    {
     "output_type": "stream",
     "name": "stdout",
     "text": [
      "number of heads and tails: Counter({0: 5013, 1: 4987})\n",
      "probability of head: 0.5013\n"
     ]
    }
   ],
   "metadata": {}
  },
  {
   "cell_type": "code",
   "execution_count": 40,
   "source": [
    "# Баесовская\n",
    "np.random.seed(42)\n",
    "coin_array = np.random.binomial(1, 0.7, size=100)\n",
    "coin_frequencies = Counter(coin_array)\n",
    "print(f\"number of heads and tails: {coin_frequencies}\")\n",
    "print(f\"probability of head: {coin_frequencies[0] / coin_array.shape[0]}\")"
   ],
   "outputs": [
    {
     "output_type": "stream",
     "name": "stdout",
     "text": [
      "number of heads and tails: Counter({1: 70, 0: 30})\n",
      "probability of head: 0.3\n"
     ]
    }
   ],
   "metadata": {}
  },
  {
   "cell_type": "markdown",
   "source": [
    "Баесовская интерпритация позволяет генерировать данные меньших размеров"
   ],
   "metadata": {}
  },
  {
   "cell_type": "markdown",
   "source": [
    "## Виды неопределенности"
   ],
   "metadata": {}
  },
  {
   "cell_type": "code",
   "execution_count": 45,
   "source": [
    "# Неопределенность механизмов генерации данных\n",
    "np.random.seed(2)\n",
    "left = np.random.binomial(1, 0.7, size=500)\n",
    "right = np.random.binomial(1, 0.3, size=500)\n",
    "\n",
    "coin_array = np.append(left, right)\n",
    "coin_frequencies_left = Counter(coin_array[:500])\n",
    "coin_frequencies_right = Counter(coin_array[500:])\n",
    "coin_frequencies = Counter(coin_array)\n",
    "print(f\"number of heads and tails: {coin_frequencies}\")\n",
    "print(f\"number of heads and tails: {coin_frequencies_left}\")\n",
    "print(f\"number of heads and tails: {coin_frequencies_right}\")"
   ],
   "outputs": [
    {
     "output_type": "stream",
     "name": "stdout",
     "text": [
      "number of heads and tails: Counter({0: 505, 1: 495})\n",
      "number of heads and tails: Counter({1: 362, 0: 138})\n",
      "number of heads and tails: Counter({0: 367, 1: 133})\n"
     ]
    }
   ],
   "metadata": {}
  },
  {
   "cell_type": "code",
   "execution_count": 51,
   "source": [
    "# алеаторическая неопределенность\n",
    "np.random.seed(2)\n",
    "coin_array = np.random.binomial(1, 0.7, size=1000)\n",
    "coin_frequencies = Counter(coin_array)\n",
    "print(f\"number of heads and tails: {coin_frequencies}\")"
   ],
   "outputs": [
    {
     "output_type": "stream",
     "name": "stdout",
     "text": [
      "number of heads and tails: Counter({1: 729, 0: 271})\n"
     ]
    }
   ],
   "metadata": {}
  },
  {
   "cell_type": "markdown",
   "source": [
    "## Вероятность как расширение логики"
   ],
   "metadata": {}
  },
  {
   "cell_type": "markdown",
   "source": [
    "### Вероятность события\n",
    "\n",
    "Определим событие A - как некоторое бинарное событие, например будет пробка на ул. Ленина с 17:00 до 19:00 или сила тока > 3А\n",
    "\n",
    "Тогда: P(A) - вероятность наступления события A (P - probability)\n",
    "\n",
    "$\\large{0 \\le P(A) \\le 1}$\n",
    "\n",
    "- P(A) = 0 - означает что событие точно не наступит\n",
    "- P(A) = 1 - означает что событие точно наступит\n",
    "\n",
    "$\\large{P(\\bar{A})}$ - вероятность не наступления события A\n",
    "\n",
    "$\\large{P(\\bar{A})} = 1 - P(A)$\n",
    "\n",
    "$\\large{0 \\le P(\\bar{A}) \\le 1}$ - доказать?"
   ],
   "metadata": {}
  },
  {
   "cell_type": "markdown",
   "source": [
    "### Совместная вероятность\n",
    "\n",
    "Определим $\\large {P(A \\land B) = P(A, B)}$ - как вероятность одновременного наступления событий A и B - примеры?\n",
    "\n",
    "Если события A и B независимы, то $\\large {P(A, B) = P(A)P(B)}$"
   ],
   "metadata": {}
  },
  {
   "cell_type": "markdown",
   "source": [
    "### Вероятность объеденения событий\n",
    "\n",
    "$\\large{P (A \\lor B)}$ - вероятность наступления или события A или события B\n",
    "\n",
    "$\\large{P (A \\lor B) = P(A) + P(B) - P(A \\land B)}$\n",
    "\n",
    "<img src=\"./img/union.png\">\n",
    "\n",
    "Если события взаимоисключающие то:\n",
    "\n",
    "$\\large{P (A \\lor B) = P(A) + P(B)}$ - нарисовать диаграмму"
   ],
   "metadata": {}
  },
  {
   "cell_type": "markdown",
   "source": [],
   "metadata": {}
  }
 ],
 "metadata": {
  "orig_nbformat": 4,
  "language_info": {
   "name": "python",
   "version": "3.8.0",
   "mimetype": "text/x-python",
   "codemirror_mode": {
    "name": "ipython",
    "version": 3
   },
   "pygments_lexer": "ipython3",
   "nbconvert_exporter": "python",
   "file_extension": ".py"
  },
  "kernelspec": {
   "name": "python3",
   "display_name": "Python 3.8.0 64-bit ('mlisuct': conda)"
  },
  "interpreter": {
   "hash": "f7eb3cf99d9a72d4bd5200d04dc90cf6b7c9af6fec29dd78a551375e3a5c7621"
  }
 },
 "nbformat": 4,
 "nbformat_minor": 2
}