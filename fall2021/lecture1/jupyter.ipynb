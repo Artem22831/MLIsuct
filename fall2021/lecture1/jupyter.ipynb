{
 "cells": [
  {
   "cell_type": "markdown",
   "source": [
    "# Старт проекта\r\n",
    "\r\n",
    "Всегда начинайте проект с нового окружения, для Windows я рекомендую использовать Miniconda - https://repo.anaconda.com/miniconda/Miniconda3-latest-Windows-x86_64.exe\r\n",
    "\r\n",
    "Создаем проект с помощью <code>conda create -n mlisuct python==3.8</code>\r\n",
    "\r\n",
    "Устанавливаем в окружение jupyterlab\r\n",
    "\r\n",
    "<code>\r\n",
    "conda activate mlisuct\r\n",
    "\r\n",
    "conda install jupyterlab\r\n",
    "</code>"
   ],
   "metadata": {}
  },
  {
   "cell_type": "markdown",
   "source": [
    "# Notebook modes\r\n",
    "\r\n",
    "1. In cell - курсор находится в ячейке, активируется по клавише \"Enter\", если курсор вне ячейки\r\n",
    "2. Out of cell - курсор вне ячейки, актвируется по \"Esc\", если курсор в ячейке"
   ],
   "metadata": {}
  },
  {
   "cell_type": "markdown",
   "source": [
    "## Out of cell\r\n",
    "- A - добавить ячейку сверху\r\n",
    "- B - добавить ячейку снизу\r\n",
    "- X - вырезать ячейку\r\n",
    "- V - вставить ячейку\r\n",
    "- M - тип ячейки текст\r\n",
    "- Y - тип ячейки код\r\n",
    "- Z - отмена последнего действия с ячейками\r\n",
    "- Shift + Z - возвращение последнего действия с ячейками"
   ],
   "metadata": {}
  },
  {
   "cell_type": "code",
   "execution_count": null,
   "source": [
    "# In cell\r\n",
    "a = 1\r\n",
    "b = 2\r\n",
    "c = a + b\r\n",
    "c"
   ],
   "outputs": [],
   "metadata": {}
  },
  {
   "cell_type": "code",
   "execution_count": null,
   "source": [
    "# Переменные сохраняются в разных ячейках\r\n",
    "a, b, c"
   ],
   "outputs": [],
   "metadata": {}
  },
  {
   "cell_type": "code",
   "execution_count": null,
   "source": [
    "def f(n):\r\n",
    "    if n < 2:\r\n",
    "        return n\r\n",
    "    else:\r\n",
    "        return f(n - 2) + f(n - 1)"
   ],
   "outputs": [],
   "metadata": {}
  },
  {
   "cell_type": "code",
   "execution_count": null,
   "source": [
    "%%time\r\n",
    "# Замерить время исполнения кода одноразово\r\n",
    "f(30)"
   ],
   "outputs": [],
   "metadata": {}
  },
  {
   "cell_type": "code",
   "execution_count": null,
   "source": [
    "%%timeit\r\n",
    "# Замерить среднее время исполнения кода\r\n",
    "f(30)"
   ],
   "outputs": [],
   "metadata": {}
  },
  {
   "cell_type": "code",
   "execution_count": null,
   "source": [
    "%%debug\r\n",
    "a = []\r\n",
    "for i in range(10):\r\n",
    "    a.append(i ** 2)"
   ],
   "outputs": [],
   "metadata": {}
  },
  {
   "cell_type": "code",
   "execution_count": null,
   "source": [
    "from collections import Counter"
   ],
   "outputs": [],
   "metadata": {}
  },
  {
   "cell_type": "code",
   "execution_count": null,
   "source": [
    "# вывести docstring\r\n",
    "Counter?"
   ],
   "outputs": [],
   "metadata": {}
  },
  {
   "cell_type": "code",
   "execution_count": 24,
   "source": [
    "# Обращение к терминалу\r\n",
    "!where python"
   ],
   "outputs": [
    {
     "output_type": "stream",
     "name": "stdout",
     "text": [
      "C:\\Users\\anton.nesterenko\\Miniconda3\\envs\\mlisuct\\python.exe\n",
      "C:\\Python36\\python.exe\n"
     ]
    }
   ],
   "metadata": {}
  },
  {
   "cell_type": "markdown",
   "source": [
    "- VSCode jupyter docs - https://code.visualstudio.com/docs/datascience/jupyter-notebooks\r\n",
    "- Jupyterlab docs - https://jupyterlab.readthedocs.io/en/latest/"
   ],
   "metadata": {}
  }
 ],
 "metadata": {
  "orig_nbformat": 4,
  "language_info": {
   "name": "python",
   "version": "3.8.0",
   "mimetype": "text/x-python",
   "codemirror_mode": {
    "name": "ipython",
    "version": 3
   },
   "pygments_lexer": "ipython3",
   "nbconvert_exporter": "python",
   "file_extension": ".py"
  },
  "kernelspec": {
   "name": "python3",
   "display_name": "Python 3.8.0 64-bit ('mlisuct': conda)"
  },
  "interpreter": {
   "hash": "c2f59a19f275b4730297ae82f69de846c181cbb4f157f83a66e1ed41889c0a5c"
  }
 },
 "nbformat": 4,
 "nbformat_minor": 2
}