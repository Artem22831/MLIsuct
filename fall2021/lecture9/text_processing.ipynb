{
 "cells": [
  {
   "cell_type": "code",
   "execution_count": 1,
   "id": "15d60d7d-980b-4e67-9d0c-f2d4937523ea",
   "metadata": {},
   "outputs": [
    {
     "name": "stdout",
     "output_type": "stream",
     "text": [
      "Requirement already satisfied: nltk in /home/imd/miniconda3/envs/mlisuct/lib/python3.8/site-packages (3.6.5)\n",
      "Requirement already satisfied: tqdm in /home/imd/miniconda3/envs/mlisuct/lib/python3.8/site-packages (from nltk) (4.62.3)\n",
      "Requirement already satisfied: click in /home/imd/miniconda3/envs/mlisuct/lib/python3.8/site-packages (from nltk) (8.0.3)\n",
      "Requirement already satisfied: joblib in /home/imd/miniconda3/envs/mlisuct/lib/python3.8/site-packages (from nltk) (1.0.1)\n",
      "Requirement already satisfied: regex>=2021.8.3 in /home/imd/miniconda3/envs/mlisuct/lib/python3.8/site-packages (from nltk) (2021.11.2)\n"
     ]
    }
   ],
   "source": [
    "!pip install nltk"
   ]
  },
  {
   "cell_type": "code",
   "execution_count": 2,
   "id": "c387f7f9-9ee8-4d1e-9db4-f8d5cdbe1349",
   "metadata": {},
   "outputs": [],
   "source": [
    "%config Completer.use_jedi = False"
   ]
  },
  {
   "cell_type": "code",
   "execution_count": 100,
   "id": "0bbd12fb-d8a5-437b-b3cc-c0471defcea1",
   "metadata": {},
   "outputs": [],
   "source": [
    "import re\n",
    "from datetime import datetime\n",
    "\n",
    "import numpy as np\n",
    "import pandas as pd\n",
    "import seaborn as sns\n",
    "from sklearn.feature_extraction.text import CountVectorizer, TfidfVectorizer\n",
    "from sklearn.compose import ColumnTransformer\n",
    "from sklearn.pipeline import Pipeline\n",
    "from sklearn.linear_model import LinearRegression, Ridge, Lasso, LogisticRegression\n",
    "from sklearn.model_selection import train_test_split\n",
    "from sklearn.metrics import mean_squared_error, mean_absolute_error\n",
    "import nltk\n",
    "from nltk import wordpunct_tokenize, WordNetLemmatizer, SnowballStemmer\n",
    "from nltk.corpus import stopwords"
   ]
  },
  {
   "cell_type": "code",
   "execution_count": 14,
   "id": "d22e15c5-7501-4ca4-aae3-96ce91ed2fb0",
   "metadata": {},
   "outputs": [
    {
     "name": "stderr",
     "output_type": "stream",
     "text": [
      "[nltk_data] Downloading package stopwords to /home/imd/nltk_data...\n",
      "[nltk_data]   Package stopwords is already up-to-date!\n",
      "[nltk_data] Downloading package wordnet to /home/imd/nltk_data...\n",
      "[nltk_data]   Unzipping corpora/wordnet.zip.\n"
     ]
    },
    {
     "data": {
      "text/plain": [
       "True"
      ]
     },
     "execution_count": 14,
     "metadata": {},
     "output_type": "execute_result"
    }
   ],
   "source": [
    "nltk.download('stopwords')\n",
    "nltk.download('wordnet')"
   ]
  },
  {
   "cell_type": "code",
   "execution_count": 6,
   "id": "034b4df5-e57a-4f0c-8a9d-a196eaa73750",
   "metadata": {},
   "outputs": [],
   "source": [
    "df = pd.read_csv(\"train.csv\")"
   ]
  },
  {
   "cell_type": "code",
   "execution_count": 7,
   "id": "02d1ac92-8510-4658-8fe7-317952f97f0d",
   "metadata": {},
   "outputs": [
    {
     "data": {
      "text/html": [
       "<div>\n",
       "<style scoped>\n",
       "    .dataframe tbody tr th:only-of-type {\n",
       "        vertical-align: middle;\n",
       "    }\n",
       "\n",
       "    .dataframe tbody tr th {\n",
       "        vertical-align: top;\n",
       "    }\n",
       "\n",
       "    .dataframe thead th {\n",
       "        text-align: right;\n",
       "    }\n",
       "</style>\n",
       "<table border=\"1\" class=\"dataframe\">\n",
       "  <thead>\n",
       "    <tr style=\"text-align: right;\">\n",
       "      <th></th>\n",
       "      <th>name</th>\n",
       "      <th>review</th>\n",
       "      <th>game</th>\n",
       "      <th>platform</th>\n",
       "      <th>score</th>\n",
       "      <th>date</th>\n",
       "      <th>ID</th>\n",
       "    </tr>\n",
       "  </thead>\n",
       "  <tbody>\n",
       "    <tr>\n",
       "      <th>0</th>\n",
       "      <td>GameSpy</td>\n",
       "      <td>Sporting some of the best writing and voice wo...</td>\n",
       "      <td>Portal 2</td>\n",
       "      <td>PC</td>\n",
       "      <td>100.0</td>\n",
       "      <td>Apr 22, 2011</td>\n",
       "      <td>6</td>\n",
       "    </tr>\n",
       "    <tr>\n",
       "      <th>1</th>\n",
       "      <td>DarkZero</td>\n",
       "      <td>In conclusion, Portal 2 is a textbook example ...</td>\n",
       "      <td>Portal 2</td>\n",
       "      <td>PC</td>\n",
       "      <td>100.0</td>\n",
       "      <td>Apr 21, 2011</td>\n",
       "      <td>7</td>\n",
       "    </tr>\n",
       "    <tr>\n",
       "      <th>2</th>\n",
       "      <td>Destructoid</td>\n",
       "      <td>Without a doubt, one of the best games ever ma...</td>\n",
       "      <td>Portal 2</td>\n",
       "      <td>PC</td>\n",
       "      <td>100.0</td>\n",
       "      <td>Apr 21, 2011</td>\n",
       "      <td>9</td>\n",
       "    </tr>\n",
       "    <tr>\n",
       "      <th>3</th>\n",
       "      <td>GameWatcher</td>\n",
       "      <td>Never before has a review embargo had us screa...</td>\n",
       "      <td>Portal 2</td>\n",
       "      <td>PC</td>\n",
       "      <td>100.0</td>\n",
       "      <td>Apr 19, 2011</td>\n",
       "      <td>11</td>\n",
       "    </tr>\n",
       "    <tr>\n",
       "      <th>4</th>\n",
       "      <td>VideoGamer</td>\n",
       "      <td>A mere ten minutes here will yield more memora...</td>\n",
       "      <td>Portal 2</td>\n",
       "      <td>PC</td>\n",
       "      <td>100.0</td>\n",
       "      <td>Apr 19, 2011</td>\n",
       "      <td>13</td>\n",
       "    </tr>\n",
       "  </tbody>\n",
       "</table>\n",
       "</div>"
      ],
      "text/plain": [
       "          name                                             review      game  \\\n",
       "0      GameSpy  Sporting some of the best writing and voice wo...  Portal 2   \n",
       "1     DarkZero  In conclusion, Portal 2 is a textbook example ...  Portal 2   \n",
       "2  Destructoid  Without a doubt, one of the best games ever ma...  Portal 2   \n",
       "3  GameWatcher  Never before has a review embargo had us screa...  Portal 2   \n",
       "4   VideoGamer  A mere ten minutes here will yield more memora...  Portal 2   \n",
       "\n",
       "  platform  score          date  ID  \n",
       "0       PC  100.0  Apr 22, 2011   6  \n",
       "1       PC  100.0  Apr 21, 2011   7  \n",
       "2       PC  100.0  Apr 21, 2011   9  \n",
       "3       PC  100.0  Apr 19, 2011  11  \n",
       "4       PC  100.0  Apr 19, 2011  13  "
      ]
     },
     "execution_count": 7,
     "metadata": {},
     "output_type": "execute_result"
    }
   ],
   "source": [
    "df.head()"
   ]
  },
  {
   "cell_type": "code",
   "execution_count": 13,
   "id": "359acb36-5de2-4276-b950-76e095b5da0a",
   "metadata": {},
   "outputs": [],
   "source": [
    "df[\"date\"] = pd.to_datetime(df[\"date\"])"
   ]
  },
  {
   "cell_type": "code",
   "execution_count": 15,
   "id": "b191bec3-c1f4-44d2-9d50-1ad93fc63611",
   "metadata": {},
   "outputs": [],
   "source": [
    "df.sort_values(\"date\", ascending=True, inplace=True)"
   ]
  },
  {
   "cell_type": "code",
   "execution_count": 17,
   "id": "51561b57-41c2-4f49-b03b-d6d260831f1b",
   "metadata": {},
   "outputs": [],
   "source": [
    "train_df, test_df = train_test_split(df, test_size=0.2, shuffle=False)"
   ]
  },
  {
   "cell_type": "code",
   "execution_count": 20,
   "id": "3e4fda47-483e-46d8-9e88-7661182e4ba1",
   "metadata": {},
   "outputs": [
    {
     "name": "stderr",
     "output_type": "stream",
     "text": [
      "/home/imd/miniconda3/envs/mlisuct/lib/python3.8/site-packages/seaborn/_decorators.py:36: FutureWarning: Pass the following variables as keyword args: x, y. From version 0.12, the only valid positional argument will be `data`, and passing other arguments without an explicit keyword will result in an error or misinterpretation.\n",
      "  warnings.warn(\n"
     ]
    },
    {
     "data": {
      "image/png": "[encoded data removed]",
      "text/plain": [
       "<Figure size 432x288 with 1 Axes>"
      ]
     },
     "metadata": {
      "needs_background": "light"
     },
     "output_type": "display_data"
    }
   ],
   "source": [
    "sns.boxplot(train_df[\"score\"], train_df[\"platform\"], orient=\"h\");"
   ]
  },
  {
   "cell_type": "code",
   "execution_count": 24,
   "id": "8fa86311-3aa5-496e-a149-8168c7e21307",
   "metadata": {},
   "outputs": [],
   "source": [
    "sorted_game_dates = train_df.groupby(\"game\")[\"date\"].max().sort_values(ascending=False)"
   ]
  },
  {
   "cell_type": "code",
   "execution_count": 28,
   "id": "ce5390ef-8ba7-460f-b38a-f16f7d1249da",
   "metadata": {},
   "outputs": [],
   "source": [
    "COLS_TO_DROP = [\n",
    "    \"name\", \"game\", \"platform\", \"date\", \"ID\"\n",
    "]"
   ]
  },
  {
   "cell_type": "code",
   "execution_count": 29,
   "id": "4d5bd7c5-5be7-4c86-b95b-452cc4925391",
   "metadata": {},
   "outputs": [
    {
     "name": "stderr",
     "output_type": "stream",
     "text": [
      "/home/imd/miniconda3/envs/mlisuct/lib/python3.8/site-packages/pandas/core/frame.py:4901: SettingWithCopyWarning: \n",
      "A value is trying to be set on a copy of a slice from a DataFrame\n",
      "\n",
      "See the caveats in the documentation: https://pandas.pydata.org/pandas-docs/stable/user_guide/indexing.html#returning-a-view-versus-a-copy\n",
      "  return super().drop(\n"
     ]
    }
   ],
   "source": [
    "train_df.drop(columns=COLS_TO_DROP, inplace=True)\n",
    "test_df.drop(columns=COLS_TO_DROP, inplace=True)"
   ]
  },
  {
   "cell_type": "code",
   "execution_count": 31,
   "id": "c3ccd725-3104-4989-8865-1995fecfa277",
   "metadata": {},
   "outputs": [
    {
     "data": {
      "text/html": [
       "<div>\n",
       "<style scoped>\n",
       "    .dataframe tbody tr th:only-of-type {\n",
       "        vertical-align: middle;\n",
       "    }\n",
       "\n",
       "    .dataframe tbody tr th {\n",
       "        vertical-align: top;\n",
       "    }\n",
       "\n",
       "    .dataframe thead th {\n",
       "        text-align: right;\n",
       "    }\n",
       "</style>\n",
       "<table border=\"1\" class=\"dataframe\">\n",
       "  <thead>\n",
       "    <tr style=\"text-align: right;\">\n",
       "      <th></th>\n",
       "      <th>review</th>\n",
       "      <th>score</th>\n",
       "    </tr>\n",
       "  </thead>\n",
       "  <tbody>\n",
       "    <tr>\n",
       "      <th>1364</th>\n",
       "      <td>Two Worlds is atmospheric and exiting, vast an...</td>\n",
       "      <td>70.0</td>\n",
       "    </tr>\n",
       "    <tr>\n",
       "      <th>1352</th>\n",
       "      <td>If you are looking for a really good role play...</td>\n",
       "      <td>91.0</td>\n",
       "    </tr>\n",
       "    <tr>\n",
       "      <th>1353</th>\n",
       "      <td>Two Worlds 2 has lots of different quests, lot...</td>\n",
       "      <td>90.0</td>\n",
       "    </tr>\n",
       "    <tr>\n",
       "      <th>1356</th>\n",
       "      <td>Quotation forthcoming.</td>\n",
       "      <td>85.0</td>\n",
       "    </tr>\n",
       "    <tr>\n",
       "      <th>2596</th>\n",
       "      <td>Still, Faery is commendable for being among th...</td>\n",
       "      <td>58.0</td>\n",
       "    </tr>\n",
       "  </tbody>\n",
       "</table>\n",
       "</div>"
      ],
      "text/plain": [
       "                                                 review  score\n",
       "1364  Two Worlds is atmospheric and exiting, vast an...   70.0\n",
       "1352  If you are looking for a really good role play...   91.0\n",
       "1353  Two Worlds 2 has lots of different quests, lot...   90.0\n",
       "1356                             Quotation forthcoming.   85.0\n",
       "2596  Still, Faery is commendable for being among th...   58.0"
      ]
     },
     "execution_count": 31,
     "metadata": {},
     "output_type": "execute_result"
    }
   ],
   "source": [
    "train_df.head()"
   ]
  },
  {
   "cell_type": "code",
   "execution_count": 36,
   "id": "61b5782e-ddbf-4bca-8df7-5b373a832356",
   "metadata": {},
   "outputs": [],
   "source": [
    "stem = SnowballStemmer(\"english\")"
   ]
  },
  {
   "cell_type": "code",
   "execution_count": 39,
   "id": "39fd2530-79a8-4aad-a3d6-3f780dde80db",
   "metadata": {},
   "outputs": [],
   "source": [
    "lemma = WordNetLemmatizer()"
   ]
  },
  {
   "cell_type": "code",
   "execution_count": 43,
   "id": "e499a476-3392-4778-a590-f389354bb2f9",
   "metadata": {},
   "outputs": [],
   "source": [
    "stop_words = set(stopwords.words(\"english\"))"
   ]
  },
  {
   "cell_type": "code",
   "execution_count": 47,
   "id": "694c8382-40f4-45fe-9e6f-a0936780225d",
   "metadata": {},
   "outputs": [],
   "source": [
    "stop_words.remove(\"no\")"
   ]
  },
  {
   "cell_type": "code",
   "execution_count": 48,
   "id": "74ef0799-7c29-4548-ad84-99635dd01c8b",
   "metadata": {},
   "outputs": [],
   "source": [
    "stop_words.remove(\"not\")"
   ]
  },
  {
   "cell_type": "code",
   "execution_count": 58,
   "id": "f8b99330-4bf4-44a5-abc4-b319a932fdd7",
   "metadata": {},
   "outputs": [],
   "source": [
    "BRACKETS_RE = re.compile(r\"\\[[^\\]]*\\]\")\n",
    "PUNK_RE = re.compile(r\"[.,\\\"'#@$%:;* \\t\\n^/\\\\-]+\")\n",
    "\n",
    "def preprocessing(text):\n",
    "    text = BRACKETS_RE.sub(\"\", text)\n",
    "    text = text.lower()\n",
    "    text = text.replace(\"&\", \" and \")\n",
    "    text = text.replace(\"n't\", \" not\")\n",
    "    text = text.replace(\"n'\", \" not\")\n",
    "    text = PUNK_RE.sub(\" \", text)\n",
    "    text_list = wordpunct_tokenize(text)\n",
    "    text_list = [lemma.lemmatize(word) for word in text_list if word not in stop_words]\n",
    "    text = \" \".join(text_list)\n",
    "    return text.strip()"
   ]
  },
  {
   "cell_type": "code",
   "execution_count": 59,
   "id": "d00370e9-4447-48eb-a3e2-84d2192ec015",
   "metadata": {},
   "outputs": [
    {
     "name": "stderr",
     "output_type": "stream",
     "text": [
      "/tmp/ipykernel_17901/1002323290.py:1: SettingWithCopyWarning: \n",
      "A value is trying to be set on a copy of a slice from a DataFrame.\n",
      "Try using .loc[row_indexer,col_indexer] = value instead\n",
      "\n",
      "See the caveats in the documentation: https://pandas.pydata.org/pandas-docs/stable/user_guide/indexing.html#returning-a-view-versus-a-copy\n",
      "  train_df[\"review_proceed\"] = train_df[\"review\"].apply(preprocessing)\n",
      "/tmp/ipykernel_17901/1002323290.py:2: SettingWithCopyWarning: \n",
      "A value is trying to be set on a copy of a slice from a DataFrame.\n",
      "Try using .loc[row_indexer,col_indexer] = value instead\n",
      "\n",
      "See the caveats in the documentation: https://pandas.pydata.org/pandas-docs/stable/user_guide/indexing.html#returning-a-view-versus-a-copy\n",
      "  test_df[\"review_proceed\"] = test_df[\"review\"].apply(preprocessing)\n"
     ]
    }
   ],
   "source": [
    "train_df[\"review_proceed\"] = train_df[\"review\"].apply(preprocessing)\n",
    "test_df[\"review_proceed\"] = test_df[\"review\"].apply(preprocessing)"
   ]
  },
  {
   "cell_type": "code",
   "execution_count": 60,
   "id": "71b65231-19b2-4578-9e8b-045acef7c987",
   "metadata": {},
   "outputs": [
    {
     "data": {
      "text/plain": [
       "1364     two world atmospheric exiting vast addictive p...\n",
       "1352     looking really good role playing game keep str...\n",
       "1353     two world 2 lot different quest lot multiplaye...\n",
       "1356                                 quotation forthcoming\n",
       "2596     still faery commendable among first foray core...\n",
       "                               ...                        \n",
       "46966    hack g u last recode lot love poured developme...\n",
       "46970    hack g u last recode great attempt modernize o...\n",
       "51792    really wanted bubsy woolies strike back good l...\n",
       "43287    looking football simulation grab copy pe 2018 ...\n",
       "46973    last recode high low overall think bundle grea...\n",
       "Name: review_proceed, Length: 49740, dtype: object"
      ]
     },
     "execution_count": 60,
     "metadata": {},
     "output_type": "execute_result"
    }
   ],
   "source": [
    "train_df[\"review_proceed\"]"
   ]
  },
  {
   "cell_type": "code",
   "execution_count": 72,
   "id": "2c61504d-98fb-42d4-9515-ca29390f632e",
   "metadata": {},
   "outputs": [],
   "source": [
    "pipe = Pipeline([\n",
    "    (\"vectorizer\", CountVectorizer(ngram_range=(1, 2))),\n",
    "    (\"model\", Ridge()),\n",
    "])"
   ]
  },
  {
   "cell_type": "code",
   "execution_count": 73,
   "id": "c21cc329-3882-4a33-a25c-48bf19142f4b",
   "metadata": {},
   "outputs": [],
   "source": [
    "COLS_TO_FIT = \"review_proceed\"\n",
    "TARGET_COL = \"score\""
   ]
  },
  {
   "cell_type": "code",
   "execution_count": 74,
   "id": "4811054d-a232-4e63-a930-0dc7406a25ba",
   "metadata": {},
   "outputs": [
    {
     "data": {
      "text/plain": [
       "Pipeline(steps=[('vectorizer', CountVectorizer(ngram_range=(1, 2))),\n",
       "                ('model', Ridge())])"
      ]
     },
     "execution_count": 74,
     "metadata": {},
     "output_type": "execute_result"
    }
   ],
   "source": [
    "pipe.fit(train_df[COLS_TO_FIT], train_df[TARGET_COL])"
   ]
  },
  {
   "cell_type": "code",
   "execution_count": 75,
   "id": "3a4f4e41-dc0a-491d-bc5d-b8a288d12b17",
   "metadata": {},
   "outputs": [],
   "source": [
    "prediction = pipe.predict(test_df[COLS_TO_FIT])"
   ]
  },
  {
   "cell_type": "code",
   "execution_count": 76,
   "id": "2b5c1c0d-ada8-4d1c-8153-e304a8548413",
   "metadata": {},
   "outputs": [
    {
     "data": {
      "text/plain": [
       "135.6887908757617"
      ]
     },
     "execution_count": 76,
     "metadata": {},
     "output_type": "execute_result"
    }
   ],
   "source": [
    "mean_squared_error(test_df[TARGET_COL], prediction)"
   ]
  },
  {
   "cell_type": "code",
   "execution_count": 77,
   "id": "9c8a6fd5-d0da-4fbe-9de0-7555b16bb47c",
   "metadata": {},
   "outputs": [
    {
     "data": {
      "text/plain": [
       "8.903250589766207"
      ]
     },
     "execution_count": 77,
     "metadata": {},
     "output_type": "execute_result"
    }
   ],
   "source": [
    "mean_absolute_error(test_df[TARGET_COL], prediction)"
   ]
  },
  {
   "cell_type": "code",
   "execution_count": 78,
   "id": "39800aa5-4b8f-4c8c-bba7-827e632bc7b8",
   "metadata": {},
   "outputs": [],
   "source": [
    "pipe = Pipeline([\n",
    "    (\"vectorizer\", CountVectorizer(ngram_range=(1, 2), min_df=5)),\n",
    "    (\"model\", Ridge()),\n",
    "])"
   ]
  },
  {
   "cell_type": "code",
   "execution_count": 83,
   "id": "3fb30959-9cf4-4682-ac18-b9dd7da60f03",
   "metadata": {},
   "outputs": [],
   "source": [
    "def train_and_validate(model, train_df, test_df):\n",
    "    pipe.fit(train_df[COLS_TO_FIT], train_df[TARGET_COL])\n",
    "    prediction = pipe.predict(test_df[COLS_TO_FIT])\n",
    "    print(f\"mse: {mean_squared_error(test_df[TARGET_COL], prediction):.3f}\")\n",
    "    print(f\"mae: {mean_absolute_error(test_df[TARGET_COL], prediction):.3f}\")"
   ]
  },
  {
   "cell_type": "code",
   "execution_count": 84,
   "id": "fd410a03-0b78-4938-a5b2-cb3693e69cdd",
   "metadata": {},
   "outputs": [],
   "source": [
    "pipe = Pipeline([\n",
    "    (\"vectorizer\", CountVectorizer(ngram_range=(1, 2), max_df=0.3)),\n",
    "    (\"model\", Ridge()),\n",
    "])"
   ]
  },
  {
   "cell_type": "code",
   "execution_count": 85,
   "id": "4d7396d3-e878-42e6-be49-77a95a5704d2",
   "metadata": {},
   "outputs": [
    {
     "name": "stdout",
     "output_type": "stream",
     "text": [
      "mse: 135.673\n",
      "mae: 8.903\n"
     ]
    }
   ],
   "source": [
    "train_and_validate(pipe, train_df, test_df)"
   ]
  },
  {
   "cell_type": "code",
   "execution_count": 86,
   "id": "f8717280-69e1-458b-b148-20077d666e9b",
   "metadata": {},
   "outputs": [],
   "source": [
    "pipe = Pipeline([\n",
    "    (\"vectorizer\", CountVectorizer(ngram_range=(1, 2), max_df=0.3)),\n",
    "    (\"model\", Ridge(alpha=5)),\n",
    "])"
   ]
  },
  {
   "cell_type": "code",
   "execution_count": 87,
   "id": "d79a9888-91a5-4952-b501-4525c63e0783",
   "metadata": {},
   "outputs": [
    {
     "name": "stdout",
     "output_type": "stream",
     "text": [
      "mse: 124.015\n",
      "mae: 8.492\n"
     ]
    }
   ],
   "source": [
    "train_and_validate(pipe, train_df, test_df)"
   ]
  },
  {
   "cell_type": "code",
   "execution_count": 90,
   "id": "f895b292-d930-4b91-8afd-6aad23d21549",
   "metadata": {},
   "outputs": [],
   "source": [
    "pipe = Pipeline([\n",
    "    (\"vectorizer\", CountVectorizer(ngram_range=(1, 2), max_df=0.3, token_pattern=r\"\\S+\")),\n",
    "    (\"model\", Ridge(alpha=10)),\n",
    "])"
   ]
  },
  {
   "cell_type": "code",
   "execution_count": 91,
   "id": "cd325cf8-ae33-42f4-be34-a1151c9d2142",
   "metadata": {},
   "outputs": [
    {
     "name": "stdout",
     "output_type": "stream",
     "text": [
      "mse: 120.073\n",
      "mae: 8.350\n"
     ]
    }
   ],
   "source": [
    "train_and_validate(pipe, train_df, test_df)"
   ]
  },
  {
   "cell_type": "code",
   "execution_count": 92,
   "id": "36007e8e-48d8-467c-9a8a-ca79601e7b36",
   "metadata": {},
   "outputs": [],
   "source": [
    "pipe = Pipeline([\n",
    "    (\"vectorizer\", TfidfVectorizer(ngram_range=(1, 2), max_df=0.3, token_pattern=r\"\\S+\")),\n",
    "    (\"model\", Ridge(alpha=10)),\n",
    "])"
   ]
  },
  {
   "cell_type": "code",
   "execution_count": 93,
   "id": "ab8eba65-c8fe-4817-ab7f-b1099387ec21",
   "metadata": {},
   "outputs": [
    {
     "name": "stdout",
     "output_type": "stream",
     "text": [
      "mse: 121.566\n",
      "mae: 8.173\n"
     ]
    }
   ],
   "source": [
    "train_and_validate(pipe, train_df, test_df)"
   ]
  },
  {
   "cell_type": "code",
   "execution_count": 94,
   "id": "8ee0fc5c-d1a6-41c3-af19-e1064ee32de3",
   "metadata": {},
   "outputs": [],
   "source": [
    "pipe = Pipeline([\n",
    "    (\"vectorizer\", TfidfVectorizer(ngram_range=(1, 2), max_df=0.3, token_pattern=r\"\\S+\")),\n",
    "    (\"model\", Lasso(alpha=1)),\n",
    "])"
   ]
  },
  {
   "cell_type": "code",
   "execution_count": 95,
   "id": "cdd3804d-8883-4ba3-934b-23825f9464ba",
   "metadata": {},
   "outputs": [
    {
     "name": "stdout",
     "output_type": "stream",
     "text": [
      "mse: 196.612\n",
      "mae: 10.879\n"
     ]
    }
   ],
   "source": [
    "train_and_validate(pipe, train_df, test_df)"
   ]
  },
  {
   "cell_type": "code",
   "execution_count": 96,
   "id": "10b5ef49-3c0a-40e0-8f55-0708b6a22572",
   "metadata": {},
   "outputs": [],
   "source": [
    "pipe = Pipeline([\n",
    "    (\"vectorizer\", TfidfVectorizer(ngram_range=(1, 2), max_df=0.3, token_pattern=r\"\\S+\", norm=False)),\n",
    "    (\"model\", Ridge(alpha=10)),\n",
    "])"
   ]
  },
  {
   "cell_type": "code",
   "execution_count": 97,
   "id": "c71e44b7-cbbb-4f51-9d76-3304abd37582",
   "metadata": {},
   "outputs": [
    {
     "name": "stdout",
     "output_type": "stream",
     "text": [
      "mse: 139.139\n",
      "mae: 9.015\n"
     ]
    }
   ],
   "source": [
    "train_and_validate(pipe, train_df, test_df)"
   ]
  },
  {
   "cell_type": "code",
   "execution_count": null,
   "id": "3fb5bb04-8a51-43e8-9b4d-c6f20f3a6763",
   "metadata": {},
   "outputs": [],
   "source": [
    "LogisticRegression(\n",
    "    C=1.0, # исследовать, любые значения float\n",
    "    penalty=\"l2\", # исследовать l1, l2, elasticnet\n",
    "    solver=\"saga\" # не меняем\n",
    ")"
   ]
  },
  {
   "cell_type": "code",
   "execution_count": 101,
   "id": "491f0dbd-f9c7-4006-86d3-fd35308d6e36",
   "metadata": {},
   "outputs": [],
   "source": [
    "pipe = Pipeline([\n",
    "    (\"vectorizer\", TfidfVectorizer(ngram_range=(2, 3), max_df=0.3, token_pattern=r\"\\S+\")),\n",
    "    (\"model\", Ridge(alpha=10)),\n",
    "])"
   ]
  },
  {
   "cell_type": "code",
   "execution_count": 102,
   "id": "04b63fe7-8913-4f34-a7b8-ee303543390c",
   "metadata": {},
   "outputs": [
    {
     "name": "stdout",
     "output_type": "stream",
     "text": [
      "mse: 167.194\n",
      "mae: 9.849\n"
     ]
    }
   ],
   "source": [
    "train_and_validate(pipe, train_df, test_df)"
   ]
  },
  {
   "cell_type": "code",
   "execution_count": null,
   "id": "b731fd98-24ca-4eab-a032-2b3a195e1a63",
   "metadata": {},
   "outputs": [],
   "source": []
  }
 ],
 "metadata": {
  "kernelspec": {
   "display_name": "Python 3 (ipykernel)",
   "language": "python",
   "name": "python3"
  },
  "language_info": {
   "codemirror_mode": {
    "name": "ipython",
    "version": 3
   },
   "file_extension": ".py",
   "mimetype": "text/x-python",
   "name": "python",
   "nbconvert_exporter": "python",
   "pygments_lexer": "ipython3",
   "version": "3.8.0"
  }
 },
 "nbformat": 4,
 "nbformat_minor": 5
}
